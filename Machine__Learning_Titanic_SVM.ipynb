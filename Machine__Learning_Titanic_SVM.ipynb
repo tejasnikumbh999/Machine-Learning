{
  "nbformat": 4,
  "nbformat_minor": 0,
  "metadata": {
    "colab": {
      "name": "Machine _Learning_Titanic_SVM.ipynb",
      "provenance": [],
      "authorship_tag": "ABX9TyOppXAb5rXiZHbUAK38iop7",
      "include_colab_link": true
    },
    "kernelspec": {
      "name": "python3",
      "display_name": "Python 3"
    },
    "language_info": {
      "name": "python"
    }
  },
  "cells": [
    {
      "cell_type": "markdown",
      "metadata": {
        "id": "view-in-github",
        "colab_type": "text"
      },
      "source": [
        "<a href=\"https://colab.research.google.com/github/tejasnikumbh999/Machine-Learning/blob/main/Machine__Learning_Titanic_SVM.ipynb\" target=\"_parent\"><img src=\"https://colab.research.google.com/assets/colab-badge.svg\" alt=\"Open In Colab\"/></a>"
      ]
    },
    {
      "cell_type": "markdown",
      "source": [
        "#Titanic Dataset"
      ],
      "metadata": {
        "id": "AARNRYyxetj_"
      }
    },
    {
      "cell_type": "code",
      "source": [
        "#import modules\n",
        "\n",
        "import numpy as np\n",
        "import pandas as pd\n",
        "import scipy.optimize as opt\n",
        "from sklearn import preprocessing\n",
        "from sklearn.model_selection import train_test_split\n",
        "%matplotlib inline \n",
        "import matplotlib.pyplot as plt"
      ],
      "metadata": {
        "id": "XG99TQXUfg07"
      },
      "execution_count": null,
      "outputs": []
    },
    {
      "cell_type": "code",
      "execution_count": null,
      "metadata": {
        "id": "MS3HKb33eptN"
      },
      "outputs": [],
      "source": [
        "#load data\n",
        "\n",
        "df = pd.read_csv('https://raw.githubusercontent.com/nethajinirmal13/Training-datasets/main/titanic_train.csv')\n",
        "df"
      ]
    },
    {
      "cell_type": "markdown",
      "source": [
        "#Descriptive analysis"
      ],
      "metadata": {
        "id": "87gpGw7vvCPN"
      }
    },
    {
      "cell_type": "code",
      "source": [
        "#size of dataframe\n",
        "\n",
        "df.size"
      ],
      "metadata": {
        "id": "QkrbEipdlxc8"
      },
      "execution_count": null,
      "outputs": []
    },
    {
      "cell_type": "code",
      "source": [
        "#shape of dataframe\n",
        "\n",
        "df.shape"
      ],
      "metadata": {
        "id": "TonpqxU9lxSu"
      },
      "execution_count": null,
      "outputs": []
    },
    {
      "cell_type": "code",
      "source": [
        "#description of dataframe\n",
        "\n",
        "df.describe()"
      ],
      "metadata": {
        "id": "8jR0ArJel0z7"
      },
      "execution_count": null,
      "outputs": []
    },
    {
      "cell_type": "code",
      "source": [
        "#datatype\n",
        "\n",
        "df.dtypes"
      ],
      "metadata": {
        "id": "MniiQ0L_uGtz"
      },
      "execution_count": null,
      "outputs": []
    },
    {
      "cell_type": "markdown",
      "source": [
        "## Pre-process Data"
      ],
      "metadata": {
        "id": "pwWb2qkIvNFp"
      }
    },
    {
      "cell_type": "code",
      "source": [
        "#drop unnecessery columns\n",
        "\n",
        "df.drop(['PassengerId','Name','SibSp','Parch','Ticket','Fare','Cabin'],axis=1,inplace=True)"
      ],
      "metadata": {
        "id": "J07FdxkWkzrd"
      },
      "execution_count": null,
      "outputs": []
    },
    {
      "cell_type": "code",
      "source": [
        "#dataframe\n",
        "\n",
        "df"
      ],
      "metadata": {
        "id": "CM2X4c8Nlqfg"
      },
      "execution_count": null,
      "outputs": []
    },
    {
      "cell_type": "code",
      "source": [
        "#datatype\n",
        "\n",
        "df.dtypes"
      ],
      "metadata": {
        "id": "OH2_gJium73V"
      },
      "execution_count": null,
      "outputs": []
    },
    {
      "cell_type": "code",
      "execution_count": null,
      "metadata": {
        "id": "m6g0oN6jUgYM"
      },
      "outputs": [],
      "source": [
        "#count null values\n",
        "\n",
        "df.isnull().sum()"
      ]
    },
    {
      "cell_type": "code",
      "source": [
        "#drop nan values\n",
        "\n",
        "df.dropna(inplace=True)"
      ],
      "metadata": {
        "id": "sEomVt6Pn138"
      },
      "execution_count": null,
      "outputs": []
    },
    {
      "cell_type": "code",
      "source": [
        "#count null values\n",
        "\n",
        "df.isnull().sum()"
      ],
      "metadata": {
        "id": "4N2th8qjoDtA"
      },
      "execution_count": null,
      "outputs": []
    },
    {
      "cell_type": "code",
      "source": [
        "#check datatypes\n",
        "\n",
        "df.dtypes"
      ],
      "metadata": {
        "id": "m8PUW5haqIlX"
      },
      "execution_count": null,
      "outputs": []
    },
    {
      "cell_type": "code",
      "source": [
        "#replace text data\n",
        "\n",
        "df['Sex']=df['Sex'].replace(['male','female'],[0,1])"
      ],
      "metadata": {
        "id": "qvrrYjeQCMWY"
      },
      "execution_count": null,
      "outputs": []
    },
    {
      "cell_type": "code",
      "source": [
        "#convert columnn datatype to integer\n",
        "\n",
        "df['Sex'] = df['Sex'].astype('int')\n",
        "df.dtypes"
      ],
      "metadata": {
        "id": "bE1XhJ2IECoD"
      },
      "execution_count": null,
      "outputs": []
    },
    {
      "cell_type": "code",
      "source": [
        "#convert columnn datatype to integer\n",
        "\n",
        "df['Age'] = df['Age'].astype('int')\n",
        "df.dtypes"
      ],
      "metadata": {
        "id": "zqYOqBWiHEc7"
      },
      "execution_count": null,
      "outputs": []
    },
    {
      "cell_type": "code",
      "source": [
        "#replace text data\n",
        "\n",
        "df['Embarked']=df['Embarked'].replace(['C','Q','S'], [1,2,3])"
      ],
      "metadata": {
        "id": "pH7E17-JF6yU"
      },
      "execution_count": null,
      "outputs": []
    },
    {
      "cell_type": "code",
      "source": [
        "#convert columnn datatype to integer\n",
        "\n",
        "df['Embarked'] = df['Embarked'].astype('int')\n",
        "df.dtypes"
      ],
      "metadata": {
        "id": "zizMBj7uF2ue"
      },
      "execution_count": null,
      "outputs": []
    },
    {
      "cell_type": "code",
      "source": [
        "#print data head\n",
        "\n",
        "df.head(20)"
      ],
      "metadata": {
        "id": "fWMfXFuMH6ik"
      },
      "execution_count": null,
      "outputs": []
    },
    {
      "cell_type": "code",
      "source": [
        "#correlation matrix\n",
        "\n",
        "df.corr()"
      ],
      "metadata": {
        "id": "3QXWeBtdswuU"
      },
      "execution_count": null,
      "outputs": []
    },
    {
      "cell_type": "markdown",
      "metadata": {
        "id": "4DsbLVO5UgYM"
      },
      "source": [
        "#Selecting Dataset"
      ]
    },
    {
      "cell_type": "code",
      "execution_count": null,
      "metadata": {
        "id": "P5XRYQO4UgYM"
      },
      "outputs": [],
      "source": [
        "#Define Feature Matrix\n",
        "\n",
        "feature_df = df[['Pclass', 'Sex', 'Age', 'Embarked']]\n",
        "X = np.asarray(feature_df)\n",
        "X[:5]"
      ]
    },
    {
      "cell_type": "code",
      "execution_count": null,
      "metadata": {
        "id": "Sj40_JJ_UgYN"
      },
      "outputs": [],
      "source": [
        "#Define Target Variable\n",
        "\n",
        "y = np.asarray(df['Survived'])\n",
        "y [:5]"
      ]
    },
    {
      "cell_type": "markdown",
      "metadata": {
        "id": "1kUWa61OUgYN"
      },
      "source": [
        "## Split Dataset into Train and Test Set"
      ]
    },
    {
      "cell_type": "code",
      "execution_count": null,
      "metadata": {
        "id": "r8oCoo_qUgYN"
      },
      "outputs": [],
      "source": [
        "#split data\n",
        "\n",
        "X_train, X_test, y_train, y_test = train_test_split( X, y, test_size=0.2, random_state=0)\n",
        "print ('Train set:', X_train.shape,  y_train.shape)\n",
        "print ('Test set:', X_test.shape,  y_test.shape)"
      ]
    },
    {
      "cell_type": "markdown",
      "metadata": {
        "id": "osG67eoGUgYN"
      },
      "source": [
        "#  Support Vector Machine Model"
      ]
    },
    {
      "cell_type": "markdown",
      "metadata": {
        "id": "50r0SqGvUgYN"
      },
      "source": [
        ">Kernelling\n",
        "- mapping data into a higher dimensional space \n",
        "\n",
        ">Kernel function\n",
        "- The mathematical function used for the transformation\n",
        "\n",
        ">Kernel function types:\n",
        "1. Linear\n",
        "2. Polynomial\n",
        "3. Radial basis function (RBF)\n",
        "4. Sigmoid\n",
        "\n",
        ">usually choose different functions in turn and compare the results."
      ]
    },
    {
      "cell_type": "code",
      "execution_count": null,
      "metadata": {
        "id": "z80XVvHZUgYN"
      },
      "outputs": [],
      "source": [
        "#fit data\n",
        "\n",
        "from sklearn import svm\n",
        "clf = svm.SVC(kernel='rbf', gamma=0.10,probability=True)\n",
        "clf.fit(X_train, y_train) "
      ]
    },
    {
      "cell_type": "code",
      "execution_count": null,
      "metadata": {
        "id": "4iqLbmPqUgYO"
      },
      "outputs": [],
      "source": [
        "#predict\n",
        "\n",
        "yhat = clf.predict(X_test)\n",
        "yhat[:50]"
      ]
    },
    {
      "cell_type": "markdown",
      "metadata": {
        "id": "PTZrZOwwUgYO"
      },
      "source": [
        "### Confusion Matrix"
      ]
    },
    {
      "cell_type": "code",
      "execution_count": null,
      "metadata": {
        "id": "OteKin7ZUgYO"
      },
      "outputs": [],
      "source": [
        "from sklearn.metrics import classification_report, confusion_matrix\n",
        "import itertools"
      ]
    },
    {
      "cell_type": "code",
      "source": [
        "#confusion matrix -- Accuracy of svm model\n",
        "\n",
        "acc=clf.score(X_test, y_test)\n",
        "acc"
      ],
      "metadata": {
        "id": "B2IEiBcG3GnD"
      },
      "execution_count": null,
      "outputs": []
    },
    {
      "cell_type": "markdown",
      "source": [
        "A confusion matrix helps us gain an insight into how correct our predictions were and how they hold up against the actual values."
      ],
      "metadata": {
        "id": "wiMM1EVt3ZVP"
      }
    },
    {
      "cell_type": "code",
      "source": [
        "#prediction\n",
        "\n",
        "y_pred = clf.predict(X_test)\n",
        "confusion_matrix(y_test,y_pred)\n",
        "pd.crosstab(y_test, y_pred, rownames = ['Actual'], colnames =['Predicted'], margins = True)"
      ],
      "metadata": {
        "id": "44eJ4THS3NmG"
      },
      "execution_count": null,
      "outputs": []
    },
    {
      "cell_type": "code",
      "execution_count": null,
      "metadata": {
        "id": "HvYpsv-OUgYO"
      },
      "outputs": [],
      "source": [
        "def plot_confusion_matrix(cm, classes,\n",
        "                          normalize=False,\n",
        "                          title='Confusion matrix',\n",
        "                          cmap=plt.cm.Blues):\n",
        "    \"\"\"\n",
        "    This function prints and plots the confusion matrix.\n",
        "    Normalization can be applied by setting `normalize=True`.\n",
        "    \"\"\"\n",
        "    if normalize:\n",
        "        cm = cm.astype('float') / cm.sum(axis=1)[:, np.newaxis]\n",
        "        print(\"Normalized confusion matrix\")\n",
        "    else:\n",
        "        print('Confusion matrix, without normalization')\n",
        "\n",
        "    print(cm)\n",
        "\n",
        "    plt.imshow(cm, interpolation='nearest', cmap=cmap)\n",
        "    plt.title(title)\n",
        "    plt.colorbar()\n",
        "    tick_marks = np.arange(len(classes))\n",
        "    plt.xticks(tick_marks, classes, rotation=45)\n",
        "    plt.yticks(tick_marks, classes)\n",
        "\n",
        "    fmt = '.2f' if normalize else 'd'\n",
        "    thresh = cm.max() / 2.\n",
        "    for i, j in itertools.product(range(cm.shape[0]), range(cm.shape[1])):\n",
        "        plt.text(j, i, format(cm[i, j], fmt),\n",
        "                 horizontalalignment=\"center\",\n",
        "                 color=\"white\" if cm[i, j] > thresh else \"black\")\n",
        "\n",
        "    plt.tight_layout()\n",
        "    plt.ylabel('True label')\n",
        "    plt.xlabel('Predicted label')"
      ]
    },
    {
      "cell_type": "code",
      "execution_count": null,
      "metadata": {
        "id": "c0lWnGo6UgYO"
      },
      "outputs": [],
      "source": [
        "# Compute confusion matrix\n",
        "\n",
        "cnf_matrix = confusion_matrix(y_test, yhat, labels=[0,1])\n",
        "np.set_printoptions(precision=2)"
      ]
    },
    {
      "cell_type": "code",
      "execution_count": null,
      "metadata": {
        "id": "sXp5F-DiUgYP"
      },
      "outputs": [],
      "source": [
        "#print classification report\n",
        "\n",
        "print (classification_report(y_test, yhat))"
      ]
    },
    {
      "cell_type": "markdown",
      "source": [
        "In the simplest terms, Precision is the ratio between the True Positives and all the Positives\n",
        "![image.png](data:image/png;base64,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)"
      ],
      "metadata": {
        "id": "n3uUdCB83qom"
      }
    },
    {
      "cell_type": "markdown",
      "source": [
        "The recall is the measure of our model correctly identifying True Positives. \n",
        "![image.png](data:image/png;base64,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)"
      ],
      "metadata": {
        "id": "H4KFfNpm3zxa"
      }
    },
    {
      "cell_type": "markdown",
      "source": [
        "nstead of balancing precision and recall, we can just aim for a good F1-score and that would be indicative of a good Precision and a good Recall value as well.\n",
        "![image.png](data:image/png;base64,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)"
      ],
      "metadata": {
        "id": "ZSQR8mYK4aSH"
      }
    },
    {
      "cell_type": "code",
      "execution_count": null,
      "metadata": {
        "id": "lozEYm8iUgYP"
      },
      "outputs": [],
      "source": [
        "# Plot non-normalized confusion matrix\n",
        "\n",
        "plt.figure()\n",
        "plot_confusion_matrix(cnf_matrix, classes=['Benign(2)','Malignant(4)'],normalize= False,  title='Confusion matrix')"
      ]
    },
    {
      "cell_type": "markdown",
      "source": [
        "Prediction using user inputs"
      ],
      "metadata": {
        "id": "slBeOGI7pk0g"
      }
    },
    {
      "cell_type": "code",
      "source": [
        "#prediction\n",
        "\n",
        "a=input('Enter Passenger class (1 / 2 / 3): \\t')\n",
        "if a=='1':\n",
        "  a=1\n",
        "elif a==\"2\":\n",
        "  a= 2\n",
        "elif a=='3':\n",
        "  a=3\n",
        "\n",
        "b=input('Enter passanger gender (male / female): \\t')\n",
        "if b=='male':\n",
        "  b=0\n",
        "elif b=='female':\n",
        "  b=1\n",
        "\n",
        "c=input('Enter passanger age : \\t')\n",
        "if c.isnumeric()==True:\n",
        "  c= int(c)\n",
        "\n",
        "d=input('Enter passanger embarkment (C / Q / S): \\t')\n",
        "if d=='C':\n",
        "  d=1\n",
        "elif d=='Q':\n",
        "  d=2\n",
        "elif d=='S':\n",
        "  d=3\n",
        "\n",
        "\n",
        "y_pred = clf.predict([[a,b,c,d]])\n",
        "y_pred\n",
        "if y_pred[0]==1:\n",
        "  print('\\n The passanger may survive.')\n",
        "  print(f'The prediction probabilities are : \\t',clf.predict_proba([[a,b,c,d]]))\n",
        "else:\n",
        "  print('\\nThe passanger may not survive.')\n",
        "  print(f'The prediction probabilities are : \\t',clf.predict_proba([[a,b,c,d]]))"
      ],
      "metadata": {
        "id": "0eQZNSc5pkP8"
      },
      "execution_count": null,
      "outputs": []
    }
  ]
}